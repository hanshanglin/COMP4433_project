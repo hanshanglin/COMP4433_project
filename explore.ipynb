{
 "nbformat": 4,
 "nbformat_minor": 2,
 "metadata": {
  "language_info": {
   "name": "python",
   "codemirror_mode": {
    "name": "ipython",
    "version": 3
   },
   "version": "3.7.3"
  },
  "orig_nbformat": 2,
  "file_extension": ".py",
  "mimetype": "text/x-python",
  "name": "python",
  "npconvert_exporter": "python",
  "pygments_lexer": "ipython3",
  "version": 3
 },
 "cells": [
  {
   "cell_type": "markdown",
   "execution_count": null,
   "metadata": {},
   "outputs": [],
   "source": [
    "## 0. import some important package"
   ]
  },
  {
   "cell_type": "code",
   "execution_count": 1,
   "metadata": {},
   "outputs": [],
   "source": [
    "import matplotlib.pyplot as plt\n",
    "import numpy as np\n",
    "import pandas as pd\n",
    "import seaborn as sns"
   ]
  },
  {
   "cell_type": "markdown",
   "execution_count": null,
   "metadata": {},
   "outputs": [],
   "source": [
    "## 1. load the data \n",
    "\n",
    "Use the data from \"[_Microsoft Anonymous Web Data_](http://kdd.ics.uci.edu/databases/msweb/msweb.html)\".  \n",
    "Notice: from the describtion }(http://kdd.ics.uci.edu/databases/msweb/msweb.html), the data in file mainly have 2 parts, \"attribute\" and \"user\".\n"
   ]
  },
  {
   "cell_type": "code",
   "execution_count": 14,
   "metadata": {},
   "outputs": [
    {
     "data": {
      "text/html": "<div>\n<style scoped>\n    .dataframe tbody tr th:only-of-type {\n        vertical-align: middle;\n    }\n\n    .dataframe tbody tr th {\n        vertical-align: top;\n    }\n\n    .dataframe thead th {\n        text-align: right;\n    }\n</style>\n<table border=\"1\" class=\"dataframe\">\n  <thead>\n    <tr style=\"text-align: right;\">\n      <th></th>\n      <th>marks</th>\n      <th>attribute ID</th>\n      <th>ignored</th>\n      <th>title</th>\n      <th>url</th>\n    </tr>\n  </thead>\n  <tbody>\n    <tr>\n      <th>245</th>\n      <td>A</td>\n      <td>1040</td>\n      <td>1</td>\n      <td>MS Office Info</td>\n      <td>/office</td>\n    </tr>\n    <tr>\n      <th>258</th>\n      <td>A</td>\n      <td>1101</td>\n      <td>1</td>\n      <td>Microsoft OLE DB</td>\n      <td>/oledb</td>\n    </tr>\n    <tr>\n      <th>56</th>\n      <td>A</td>\n      <td>1078</td>\n      <td>1</td>\n      <td>NT Server Support</td>\n      <td>/ntserversupport</td>\n    </tr>\n    <tr>\n      <th>87</th>\n      <td>A</td>\n      <td>1143</td>\n      <td>1</td>\n      <td>Site Builder Workshop</td>\n      <td>/workshoop</td>\n    </tr>\n    <tr>\n      <th>152</th>\n      <td>A</td>\n      <td>1273</td>\n      <td>1</td>\n      <td>mdn</td>\n      <td>/mdn</td>\n    </tr>\n  </tbody>\n</table>\n</div>",
      "text/plain": "    marks  attribute ID  ignored                  title               url\n245     A          1040        1         MS Office Info           /office\n258     A          1101        1       Microsoft OLE DB            /oledb\n56      A          1078        1      NT Server Support  /ntserversupport\n87      A          1143        1  Site Builder Workshop        /workshoop\n152     A          1273        1                    mdn              /mdn"
     },
     "execution_count": 14,
     "metadata": {},
     "output_type": "execute_result"
    }
   ],
   "source": [
    "attribute_df = pd.read_csv(\"anonymous-msweb.data\",header=None,skiprows=range(0,7),nrows=293, names=['marks', 'attribute ID','ignored','title','url'])\n",
    "attribute_df.sample(5)"
   ]
  },
  {
   "cell_type": "code",
   "execution_count": 9,
   "metadata": {},
   "outputs": [
    {
     "data": {
      "text/html": "<div>\n<style scoped>\n    .dataframe tbody tr th:only-of-type {\n        vertical-align: middle;\n    }\n\n    .dataframe tbody tr th {\n        vertical-align: top;\n    }\n\n    .dataframe thead th {\n        text-align: right;\n    }\n</style>\n<table border=\"1\" class=\"dataframe\">\n  <thead>\n    <tr style=\"text-align: right;\">\n      <th></th>\n      <th>marks</th>\n      <th>ID</th>\n      <th>ignored</th>\n    </tr>\n  </thead>\n  <tbody>\n    <tr>\n      <th>0</th>\n      <td>C</td>\n      <td>10001</td>\n      <td>10001</td>\n    </tr>\n    <tr>\n      <th>1</th>\n      <td>V</td>\n      <td>1000</td>\n      <td>1</td>\n    </tr>\n    <tr>\n      <th>2</th>\n      <td>V</td>\n      <td>1001</td>\n      <td>1</td>\n    </tr>\n    <tr>\n      <th>3</th>\n      <td>V</td>\n      <td>1002</td>\n      <td>1</td>\n    </tr>\n    <tr>\n      <th>4</th>\n      <td>C</td>\n      <td>10002</td>\n      <td>10002</td>\n    </tr>\n  </tbody>\n</table>\n</div>",
      "text/plain": "  marks     ID  ignored\n0     C  10001    10001\n1     V   1000        1\n2     V   1001        1\n3     V   1002        1\n4     C  10002    10002"
     },
     "execution_count": 9,
     "metadata": {},
     "output_type": "execute_result"
    }
   ],
   "source": [
    "user_df = pd.read_csv(\"anonymous-msweb.data\",header=None,skiprows=range(0,301), names=['marks', 'ID','ignored'])\n",
    "user_df.head(5)"
   ]
  },
  {
   "cell_type": "code",
   "execution_count": 15,
   "metadata": {},
   "outputs": [
    {
     "data": {
      "text/html": "<div>\n<style scoped>\n    .dataframe tbody tr th:only-of-type {\n        vertical-align: middle;\n    }\n\n    .dataframe tbody tr th {\n        vertical-align: top;\n    }\n\n    .dataframe thead th {\n        text-align: right;\n    }\n</style>\n<table border=\"1\" class=\"dataframe\">\n  <thead>\n    <tr style=\"text-align: right;\">\n      <th></th>\n      <th>attribute ID</th>\n      <th>title</th>\n    </tr>\n  </thead>\n  <tbody>\n    <tr>\n      <th>0</th>\n      <td>1287</td>\n      <td>International AutoRoute</td>\n    </tr>\n    <tr>\n      <th>1</th>\n      <td>1288</td>\n      <td>library</td>\n    </tr>\n    <tr>\n      <th>2</th>\n      <td>1289</td>\n      <td>Master Chef Product Information</td>\n    </tr>\n    <tr>\n      <th>3</th>\n      <td>1297</td>\n      <td>Central America</td>\n    </tr>\n    <tr>\n      <th>4</th>\n      <td>1215</td>\n      <td>For Developers Only Info</td>\n    </tr>\n    <tr>\n      <th>5</th>\n      <td>1279</td>\n      <td>Multimedia Golf</td>\n    </tr>\n    <tr>\n      <th>6</th>\n      <td>1239</td>\n      <td>Microsoft Consulting</td>\n    </tr>\n    <tr>\n      <th>7</th>\n      <td>1282</td>\n      <td>home</td>\n    </tr>\n    <tr>\n      <th>8</th>\n      <td>1251</td>\n      <td>Reference Support</td>\n    </tr>\n    <tr>\n      <th>9</th>\n      <td>1121</td>\n      <td>Microsoft Magazine</td>\n    </tr>\n  </tbody>\n</table>\n</div>",
      "text/plain": "   attribute ID                            title\n0          1287          International AutoRoute\n1          1288                          library\n2          1289  Master Chef Product Information\n3          1297                  Central America\n4          1215         For Developers Only Info\n5          1279                  Multimedia Golf\n6          1239             Microsoft Consulting\n7          1282                             home\n8          1251                Reference Support\n9          1121               Microsoft Magazine"
     },
     "execution_count": 15,
     "metadata": {},
     "output_type": "execute_result"
    }
   ],
   "source": [
    "url_save = attribute_df['url']\n",
    "attribute_df.drop(['marks','ignored','url'],axis=1,inplace=True)"
   ]
  },
  {
   "cell_type": "code",
   "execution_count": 16,
   "metadata": {},
   "outputs": [
    {
     "data": {
      "text/html": "<div>\n<style scoped>\n    .dataframe tbody tr th:only-of-type {\n        vertical-align: middle;\n    }\n\n    .dataframe tbody tr th {\n        vertical-align: top;\n    }\n\n    .dataframe thead th {\n        text-align: right;\n    }\n</style>\n<table border=\"1\" class=\"dataframe\">\n  <thead>\n    <tr style=\"text-align: right;\">\n      <th></th>\n      <th>attribute ID</th>\n      <th>title</th>\n    </tr>\n  </thead>\n  <tbody>\n    <tr>\n      <th>47</th>\n      <td>1074</td>\n      <td>Windows NT Workstation</td>\n    </tr>\n    <tr>\n      <th>224</th>\n      <td>1246</td>\n      <td>Developer Media Games</td>\n    </tr>\n    <tr>\n      <th>38</th>\n      <td>1284</td>\n      <td>partner</td>\n    </tr>\n    <tr>\n      <th>22</th>\n      <td>1005</td>\n      <td>Norway</td>\n    </tr>\n    <tr>\n      <th>163</th>\n      <td>1186</td>\n      <td>Job Listings for Pre-Grads</td>\n    </tr>\n  </tbody>\n</table>\n</div>",
      "text/plain": "     attribute ID                       title\n47           1074      Windows NT Workstation\n224          1246       Developer Media Games\n38           1284                     partner\n22           1005                      Norway\n163          1186  Job Listings for Pre-Grads"
     },
     "execution_count": 16,
     "metadata": {},
     "output_type": "execute_result"
    }
   ],
   "source": [
    "attribute_df.sample(5)"
   ]
  },
  {
   "cell_type": "code",
   "execution_count": 18,
   "metadata": {},
   "outputs": [
    {
     "data": {
      "text/html": "<div>\n<style scoped>\n    .dataframe tbody tr th:only-of-type {\n        vertical-align: middle;\n    }\n\n    .dataframe tbody tr th {\n        vertical-align: top;\n    }\n\n    .dataframe thead th {\n        text-align: right;\n    }\n</style>\n<table border=\"1\" class=\"dataframe\">\n  <thead>\n    <tr style=\"text-align: right;\">\n      <th></th>\n      <th>user</th>\n      <th>visit</th>\n    </tr>\n  </thead>\n  <tbody>\n    <tr>\n      <th>32706</th>\n      <td>42707</td>\n      <td>[1008, 1030, 1009, 1058, 1004, 1018]</td>\n    </tr>\n    <tr>\n      <th>32707</th>\n      <td>42708</td>\n      <td>[1008, 1027, 1123, 1038, 1026, 1041]</td>\n    </tr>\n    <tr>\n      <th>32708</th>\n      <td>42709</td>\n      <td>[1001, 1003]</td>\n    </tr>\n    <tr>\n      <th>32709</th>\n      <td>42710</td>\n      <td>[1035, 1001, 1018]</td>\n    </tr>\n    <tr>\n      <th>32710</th>\n      <td>42711</td>\n      <td>[1008]</td>\n    </tr>\n  </tbody>\n</table>\n</div>",
      "text/plain": "        user                                 visit\n32706  42707  [1008, 1030, 1009, 1058, 1004, 1018]\n32707  42708  [1008, 1027, 1123, 1038, 1026, 1041]\n32708  42709                          [1001, 1003]\n32709  42710                    [1035, 1001, 1018]\n32710  42711                                [1008]"
     },
     "execution_count": 18,
     "metadata": {},
     "output_type": "execute_result"
    }
   ],
   "source": [
    "user = []\n",
    "record = []\n",
    "temp_sequence = None\n",
    "for index, row in user_df.iterrows():\n",
    "    if row['marks']=='C':\n",
    "        if temp_sequence!= None:\n",
    "            record.append(temp_sequence)\n",
    "        user.append(row['ID'])\n",
    "        temp_sequence=[]\n",
    "    else:\n",
    "        temp_sequence.append(row['ID'])\n",
    "record.append(temp_sequence)\n",
    "user_df = pd.DataFrame({\"user\":user,\"visit\":record})\n"
   ]
  },
  {
   "cell_type": "code",
   "execution_count": 19,
   "metadata": {},
   "outputs": [
    {
     "data": {
      "text/html": "<div>\n<style scoped>\n    .dataframe tbody tr th:only-of-type {\n        vertical-align: middle;\n    }\n\n    .dataframe tbody tr th {\n        vertical-align: top;\n    }\n\n    .dataframe thead th {\n        text-align: right;\n    }\n</style>\n<table border=\"1\" class=\"dataframe\">\n  <thead>\n    <tr style=\"text-align: right;\">\n      <th></th>\n      <th>user</th>\n      <th>visit</th>\n    </tr>\n  </thead>\n  <tbody>\n    <tr>\n      <th>11866</th>\n      <td>21867</td>\n      <td>[1004]</td>\n    </tr>\n    <tr>\n      <th>13399</th>\n      <td>23400</td>\n      <td>[1045, 1008, 1025, 1017, 1034]</td>\n    </tr>\n    <tr>\n      <th>592</th>\n      <td>10593</td>\n      <td>[1004]</td>\n    </tr>\n    <tr>\n      <th>27089</th>\n      <td>37090</td>\n      <td>[1004]</td>\n    </tr>\n    <tr>\n      <th>9562</th>\n      <td>19563</td>\n      <td>[1008, 1017, 1134, 1034, 1004]</td>\n    </tr>\n  </tbody>\n</table>\n</div>",
      "text/plain": "        user                           visit\n11866  21867                          [1004]\n13399  23400  [1045, 1008, 1025, 1017, 1034]\n592    10593                          [1004]\n27089  37090                          [1004]\n9562   19563  [1008, 1017, 1134, 1034, 1004]"
     },
     "execution_count": 19,
     "metadata": {},
     "output_type": "execute_result"
    }
   ],
   "source": [
    "user_df.sample(5)"
   ]
  }
 ]
}